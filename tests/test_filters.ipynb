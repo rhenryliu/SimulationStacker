{
 "cells": [
  {
   "cell_type": "code",
   "execution_count": 1,
   "id": "c5c21a26",
   "metadata": {},
   "outputs": [],
   "source": [
    "import sys\n",
    "\n",
    "import numpy as np\n",
    "import pandas as pd\n",
    "import matplotlib.pyplot as plt\n",
    "import h5py\n",
    "\n",
    "# from scipy.stats import binned_statistic_2d\n",
    "# from scipy.ndimage import gaussian_filter\n",
    "from matplotlib.colors import LogNorm\n",
    "from matplotlib.colors import SymLogNorm\n",
    "import matplotlib\n",
    "import matplotlib.cm as cm\n",
    "\n",
    "# from abacusnbody.analysis.tsc import tsc_parallel\n",
    "import time\n",
    "\n",
    "from astropy.cosmology import FlatLambdaCDM\n",
    "import astropy.units as u\n",
    "\n",
    "# Import packages\n",
    "\n",
    "sys.path.append('../src/')\n",
    "# from filter_utils import *\n",
    "from utils import ksz_from_delta_sigma\n",
    "from SZstacker import SZMapStacker # type: ignore\n",
    "from stacker import SimulationStacker\n",
    "\n",
    "sys.path.append('../../illustrisPython/')\n",
    "import illustris_python as il # type: ignore\n",
    "\n",
    "import yaml\n",
    "import argparse\n",
    "from pathlib import Path"
   ]
  },
  {
   "cell_type": "code",
   "execution_count": null,
   "id": "442f11d2",
   "metadata": {},
   "outputs": [],
   "source": [
    "def radial_distance_grid(array, bounds):\n",
    "    \"\"\"\n",
    "    array: 2D numpy array (only shape is used)\n",
    "    bounds: tuple ((x_min, x_max), (y_min, y_max)) representing physical bounds\n",
    "    \"\"\"\n",
    "    rows, cols = array.shape\n",
    "    xy_min, xy_max = bounds\n",
    "\n",
    "    # Generate coordinate values for each axis\n",
    "    x_coords = np.linspace(xy_min, xy_max, cols)\n",
    "    y_coords = np.linspace(xy_min, xy_max, rows)\n",
    "\n",
    "    # Create meshgrid of coordinates\n",
    "    X, Y = np.meshgrid(x_coords, y_coords)\n",
    "\n",
    "    # Calculate distances from the center (0,0)\n",
    "    radial_distances = np.sqrt(X**2 + Y**2)\n",
    "    \n",
    "    return radial_distances"
   ]
  },
  {
   "cell_type": "code",
   "execution_count": null,
   "id": "ef7607a1",
   "metadata": {},
   "outputs": [],
   "source": [
    "radPixel = 2\n",
    "\n",
    "cutout_array = np.zeros((5,5))"
   ]
  },
  {
   "cell_type": "code",
   "execution_count": 15,
   "id": "0f51f6b9",
   "metadata": {},
   "outputs": [],
   "source": [
    "array = cutout_array.copy()\n",
    "bounds = (-2,2)\n",
    "rows, cols = array.shape\n",
    "xy_min, xy_max = bounds\n",
    "\n",
    "# Generate coordinate values for each axis\n",
    "x_coords = np.linspace(xy_min, xy_max, cols)\n",
    "y_coords = np.linspace(xy_min, xy_max, rows)\n",
    "\n",
    "# Create meshgrid of coordinates\n",
    "X, Y = np.meshgrid(x_coords, y_coords)\n",
    "\n",
    "# Calculate distances from the center (0,0)\n",
    "radial_distances = np.sqrt(X**2 + Y**2)"
   ]
  },
  {
   "cell_type": "code",
   "execution_count": 16,
   "id": "5b3764f9",
   "metadata": {},
   "outputs": [
    {
     "data": {
      "text/plain": [
       "array([-2., -1.,  0.,  1.,  2.])"
      ]
     },
     "execution_count": 16,
     "metadata": {},
     "output_type": "execute_result"
    }
   ],
   "source": [
    "x_coords"
   ]
  },
  {
   "cell_type": "code",
   "execution_count": 17,
   "id": "1132703c",
   "metadata": {},
   "outputs": [
    {
     "data": {
      "text/plain": [
       "array([[2.82842712, 2.23606798, 2.        , 2.23606798, 2.82842712],\n",
       "       [2.23606798, 1.41421356, 1.        , 1.41421356, 2.23606798],\n",
       "       [2.        , 1.        , 0.        , 1.        , 2.        ],\n",
       "       [2.23606798, 1.41421356, 1.        , 1.41421356, 2.23606798],\n",
       "       [2.82842712, 2.23606798, 2.        , 2.23606798, 2.82842712]])"
      ]
     },
     "execution_count": 17,
     "metadata": {},
     "output_type": "execute_result"
    }
   ],
   "source": [
    "radial_distance_grid(cutout_array, (-2, 2))"
   ]
  },
  {
   "cell_type": "code",
   "execution_count": null,
   "id": "9d9d2649",
   "metadata": {},
   "outputs": [],
   "source": []
  }
 ],
 "metadata": {
  "kernelspec": {
   "display_name": "cosmodesi-main",
   "language": "python",
   "name": "cosmodesi-main"
  },
  "language_info": {
   "codemirror_mode": {
    "name": "ipython",
    "version": 3
   },
   "file_extension": ".py",
   "mimetype": "text/x-python",
   "name": "python",
   "nbconvert_exporter": "python",
   "pygments_lexer": "ipython3",
   "version": "3.10.13"
  }
 },
 "nbformat": 4,
 "nbformat_minor": 5
}
