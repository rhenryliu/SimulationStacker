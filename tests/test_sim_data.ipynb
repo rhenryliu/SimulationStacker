{
 "cells": [
  {
   "cell_type": "code",
   "execution_count": 1,
   "id": "17f7de62",
   "metadata": {},
   "outputs": [],
   "source": [
    "import sys\n",
    "\n",
    "import numpy as np\n",
    "import pandas as pd\n",
    "import matplotlib.pyplot as plt\n",
    "import h5py\n",
    "\n",
    "# from scipy.stats import binned_statistic_2d\n",
    "# from scipy.ndimage import gaussian_filter\n",
    "from matplotlib.colors import LogNorm\n",
    "from matplotlib.colors import SymLogNorm\n",
    "import matplotlib\n",
    "import matplotlib.cm as cm\n",
    "\n",
    "# from abacusnbody.analysis.tsc import tsc_parallel\n",
    "import time\n",
    "\n",
    "from astropy.cosmology import FlatLambdaCDM\n",
    "import astropy.units as u\n",
    "\n",
    "# Import packages\n",
    "\n",
    "sys.path.append('../src/')\n",
    "# from filter_utils import *\n",
    "from SZstacker import SZMapStacker # type: ignore\n",
    "from stacker import SimulationStacker\n",
    "from loadIO import load_data    \n",
    "from utils import fft_smoothed_map, gaussian_smoothed_map\n",
    "\n",
    "# sys.path.append('../../illustrisPython/')\n",
    "import illustris_python as il # type: ignore\n",
    "\n",
    "import yaml\n",
    "import argparse\n",
    "from pathlib import Path\n",
    "import glob"
   ]
  },
  {
   "cell_type": "code",
   "execution_count": 2,
   "id": "ac2cc226",
   "metadata": {},
   "outputs": [],
   "source": [
    "stacker = SZMapStacker('TNG300-1', 67, z=0.5,)"
   ]
  },
  {
   "cell_type": "code",
   "execution_count": 3,
   "id": "a6fbce12",
   "metadata": {},
   "outputs": [],
   "source": [
    "folderPath = stacker.snapPath(stacker.simType, pathOnly=True)\n",
    "snaps = glob.glob(folderPath + 'snap_*.hdf5')\n",
    "snap = snaps[0]"
   ]
  },
  {
   "cell_type": "code",
   "execution_count": 4,
   "id": "754e598e",
   "metadata": {},
   "outputs": [],
   "source": [
    "DM_dict = stacker.loadSubset('DM', snapPath=snap, keys=['Coordinates', 'Masses', 'Velocities', 'ParticleIDs'])\n",
    "\n",
    "gas_dict = stacker.loadSubset('gas', snapPath=snap, keys=['Coordinates', 'Masses', 'Velocities', 'ElectronAbundance', 'InternalEnergy', 'Density', 'ParticleIDs'])"
   ]
  },
  {
   "cell_type": "code",
   "execution_count": 10,
   "id": "9bd224db",
   "metadata": {},
   "outputs": [
    {
     "data": {
      "text/plain": [
       "(25829857,)"
      ]
     },
     "execution_count": 10,
     "metadata": {},
     "output_type": "execute_result"
    }
   ],
   "source": [
    "DM_dict['ParticleIDs'].shape"
   ]
  },
  {
   "cell_type": "code",
   "execution_count": 9,
   "id": "67ebdb35",
   "metadata": {},
   "outputs": [
    {
     "data": {
      "text/plain": [
       "(24582504,)"
      ]
     },
     "execution_count": 9,
     "metadata": {},
     "output_type": "execute_result"
    }
   ],
   "source": [
    "gas_dict['ParticleIDs'].shape"
   ]
  },
  {
   "cell_type": "code",
   "execution_count": 15,
   "id": "9583038c",
   "metadata": {},
   "outputs": [
    {
     "name": "stdout",
     "output_type": "stream",
     "text": [
      "1.1578155\n",
      "1.1578009\n"
     ]
    }
   ],
   "source": [
    "print(gas_dict['ElectronAbundance'].mean())\n",
    "print(np.median(gas_dict['ElectronAbundance']))"
   ]
  },
  {
   "cell_type": "code",
   "execution_count": 13,
   "id": "f88affca",
   "metadata": {},
   "outputs": [
    {
     "data": {
      "image/png": "[encoded data removed]",
      "text/plain": [
       "<Figure size 640x480 with 1 Axes>"
      ]
     },
     "metadata": {},
     "output_type": "display_data"
    }
   ],
   "source": [
    "plt.hist(gas_dict['ElectronAbundance'], bins=100)\n",
    "plt.yscale('log')\n",
    "plt.show()"
   ]
  },
  {
   "cell_type": "code",
   "execution_count": null,
   "id": "d179acf1",
   "metadata": {},
   "outputs": [],
   "source": []
  }
 ],
 "metadata": {
  "kernelspec": {
   "display_name": "cosmodesi-main",
   "language": "python",
   "name": "cosmodesi-main"
  },
  "language_info": {
   "codemirror_mode": {
    "name": "ipython",
    "version": 3
   },
   "file_extension": ".py",
   "mimetype": "text/x-python",
   "name": "python",
   "nbconvert_exporter": "python",
   "pygments_lexer": "ipython3",
   "version": "3.10.13"
  }
 },
 "nbformat": 4,
 "nbformat_minor": 5
}
