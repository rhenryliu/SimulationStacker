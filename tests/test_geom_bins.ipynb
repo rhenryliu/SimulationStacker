{
 "cells": [
  {
   "cell_type": "code",
   "execution_count": 2,
   "id": "be52599a",
   "metadata": {},
   "outputs": [],
   "source": [
    "import numpy as np\n",
    "from scipy.interpolate import InterpolatedUnivariateSpline\n",
    "import astropy.units as u\n",
    "from astropy import cosmology\n",
    "\n",
    "import sys\n",
    "sys.path.append('../src')\n",
    "from utils import arcmin_to_comoving, comoving_to_arcmin, bins_from_geomean_monotonic\n"
   ]
  },
  {
   "cell_type": "code",
   "execution_count": 4,
   "id": "b0695497",
   "metadata": {},
   "outputs": [],
   "source": [
    "rmin_theta = 1.0\n",
    "rmax_theta = 6.0\n",
    "n_rbins = 9\n",
    "z = 0.5"
   ]
  },
  {
   "cell_type": "code",
   "execution_count": 5,
   "id": "8303ff1a",
   "metadata": {},
   "outputs": [],
   "source": [
    "rp_min = arcmin_to_comoving(rmin_theta, z) / 1000  # Mpc/h\n",
    "rp_max = arcmin_to_comoving(rmax_theta, z) / 1000  # Mpc/h\n",
    "r_desired = np.linspace(rp_min, rp_max, n_rbins)  # Mpc/h\n",
    "rbins = bins_from_geomean_monotonic(r_desired, pick='geom')[0]"
   ]
  },
  {
   "cell_type": "code",
   "execution_count": 6,
   "id": "e1e6309d",
   "metadata": {},
   "outputs": [
    {
     "data": {
      "text/plain": [
       "array([0.28370034, 0.51728274, 0.7491462 , 0.99171365, 1.22314302,\n",
       "       1.46976088, 1.6989831 , 1.94888403, 2.17549845, 2.42846338])"
      ]
     },
     "execution_count": 6,
     "metadata": {},
     "output_type": "execute_result"
    }
   ],
   "source": [
    "rbins"
   ]
  },
  {
   "cell_type": "code",
   "execution_count": null,
   "id": "888edde1",
   "metadata": {},
   "outputs": [],
   "source": []
  }
 ],
 "metadata": {
  "kernelspec": {
   "display_name": "cosmodesi-main",
   "language": "python",
   "name": "cosmodesi-main"
  },
  "language_info": {
   "codemirror_mode": {
    "name": "ipython",
    "version": 3
   },
   "file_extension": ".py",
   "mimetype": "text/x-python",
   "name": "python",
   "nbconvert_exporter": "python",
   "pygments_lexer": "ipython3",
   "version": "3.10.13"
  }
 },
 "nbformat": 4,
 "nbformat_minor": 5
}
