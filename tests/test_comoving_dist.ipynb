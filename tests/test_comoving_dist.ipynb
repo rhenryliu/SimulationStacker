{
 "cells": [
  {
   "cell_type": "code",
   "execution_count": 13,
   "id": "5f5f274d",
   "metadata": {},
   "outputs": [],
   "source": [
    "import sys\n",
    "\n",
    "import numpy as np\n",
    "import pandas as pd\n",
    "import matplotlib.pyplot as plt\n",
    "import h5py\n",
    "\n",
    "# from scipy.stats import binned_statistic_2d\n",
    "# from scipy.ndimage import gaussian_filter\n",
    "from matplotlib.colors import LogNorm\n",
    "from matplotlib.colors import SymLogNorm\n",
    "import matplotlib\n",
    "import matplotlib.cm as cm\n",
    "\n",
    "# from abacusnbody.analysis.tsc import tsc_parallel\n",
    "import time\n",
    "\n",
    "from astropy.cosmology import FlatLambdaCDM, Planck18\n",
    "import astropy.units as u\n",
    "\n",
    "# Import packages\n",
    "\n",
    "sys.path.append('../src/')\n",
    "# from filter_utils import *\n",
    "from SZstacker import SZMapStacker # type: ignore\n",
    "from stacker import SimulationStacker\n",
    "from loadIO import load_data    \n",
    "from utils import fft_smoothed_map, gaussian_smoothed_map\n",
    "\n",
    "# sys.path.append('../../illustrisPython/')\n",
    "import illustris_python as il # type: ignore\n",
    "\n",
    "import yaml\n",
    "import argparse\n",
    "from pathlib import Path\n",
    "import glob"
   ]
  },
  {
   "cell_type": "code",
   "execution_count": 6,
   "id": "f0cffeab",
   "metadata": {},
   "outputs": [],
   "source": [
    "stacker = SZMapStacker('TNG100-1', 67, z=0.5,)"
   ]
  },
  {
   "cell_type": "code",
   "execution_count": 7,
   "id": "d225ea4b",
   "metadata": {},
   "outputs": [],
   "source": [
    "folderPath = stacker.snapPath(stacker.simType, pathOnly=True)\n",
    "snaps = glob.glob(folderPath + 'snap_*.hdf5')\n",
    "snap = snaps[0]"
   ]
  },
  {
   "cell_type": "code",
   "execution_count": 8,
   "id": "3ddaee1a",
   "metadata": {},
   "outputs": [],
   "source": [
    "header = stacker.header"
   ]
  },
  {
   "cell_type": "code",
   "execution_count": 9,
   "id": "5b534b48",
   "metadata": {},
   "outputs": [
    {
     "data": {
      "text/plain": [
       "{'BoxSize': 75000.0,\n",
       " 'Composition_vector_length': 0,\n",
       " 'Flag_Cooling': 1,\n",
       " 'Flag_DoublePrecision': 0,\n",
       " 'Flag_Feedback': 1,\n",
       " 'Flag_Metals': 0,\n",
       " 'Flag_Sfr': 1,\n",
       " 'Flag_StellarAge': 0,\n",
       " 'Git_commit': b'd203ec8b07c7e2bdda5f608aa0babea46d603699',\n",
       " 'Git_date': b'Thu Apr 7 14:14:27 2016 +0200',\n",
       " 'HubbleParam': 0.6774,\n",
       " 'MassTable': array([0.00000000e+00, 5.05574296e-04, 0.00000000e+00, 4.71972931e-05,\n",
       "        0.00000000e+00, 0.00000000e+00]),\n",
       " 'NumFilesPerSnapshot': 448,\n",
       " 'NumPart_ThisFile': array([12312098, 13286645,        0, 27608866,  1054239,       95],\n",
       "       dtype=int32),\n",
       " 'NumPart_Total': array([1237981302, 1733600704,          0, 3467201408,  367811595,\n",
       "             37067], dtype=uint32),\n",
       " 'NumPart_Total_HighWord': array([1, 1, 0, 2, 0, 0], dtype=uint32),\n",
       " 'Omega0': 0.3089,\n",
       " 'OmegaBaryon': 0.0486,\n",
       " 'OmegaLambda': 0.6911,\n",
       " 'Redshift': 0.5030475232448832,\n",
       " 'Time': 0.6653149581332802,\n",
       " 'UnitLength_in_cm': 3.085678e+21,\n",
       " 'UnitMass_in_g': 1.989e+43,\n",
       " 'UnitVelocity_in_cm_per_s': 100000.0}"
      ]
     },
     "execution_count": 9,
     "metadata": {},
     "output_type": "execute_result"
    }
   ],
   "source": [
    "header"
   ]
  },
  {
   "cell_type": "code",
   "execution_count": null,
   "id": "eadb2c3d",
   "metadata": {},
   "outputs": [
    {
     "name": "stdout",
     "output_type": "stream",
     "text": [
      "195.54834571760415\n"
     ]
    }
   ],
   "source": [
    "def comoving_to_arcmin(L_com_kpch, z, cosmo=Planck18):\n",
    "    \"\"\"\n",
    "    Convert a comoving length at redshift z into angular size [arcmin].\n",
    "    \n",
    "    Parameters\n",
    "    ----------\n",
    "    L_com_kpch : float\n",
    "        Comoving length in kpc/h.\n",
    "    z : float\n",
    "        Redshift\n",
    "    \n",
    "    Returns\n",
    "    -------\n",
    "    theta_arcmin : float\n",
    "        Angular size in arcminutes.\n",
    "    \"\"\"\n",
    "    # Convert kpc/h -> Mpc\n",
    "    L_com_Mpc = L_com_kpch / (1000.0 * cosmo.h)\n",
    "    \n",
    "    # Comoving distance to redshift z [Mpc]\n",
    "    chi = cosmo.comoving_distance(z).value\n",
    "    \n",
    "    # Angular size in radians\n",
    "    theta_rad = L_com_Mpc / chi\n",
    "    \n",
    "    # Convert to arcminutes\n",
    "    return theta_rad * (180.0 / np.pi) * 60.0\n",
    "\n",
    "print(comoving_to_arcmin(header['BoxSize'], 0.5))"
   ]
  },
  {
   "cell_type": "code",
   "execution_count": 24,
   "id": "952fdb56",
   "metadata": {},
   "outputs": [
    {
     "data": {
      "text/plain": [
       "0.6766"
      ]
     },
     "execution_count": 24,
     "metadata": {},
     "output_type": "execute_result"
    }
   ],
   "source": [
    "cosmo.h"
   ]
  },
  {
   "cell_type": "code",
   "execution_count": 21,
   "id": "a457b811",
   "metadata": {},
   "outputs": [
    {
     "data": {
      "text/latex": [
       "$1946.4166 \\; \\mathrm{Mpc}$"
      ],
      "text/plain": [
       "<Quantity 1946.41663479 Mpc>"
      ]
     },
     "execution_count": 21,
     "metadata": {},
     "output_type": "execute_result"
    }
   ],
   "source": [
    "cosmo = Planck18\n",
    "z = 0.5\n",
    "cosmo.comoving_distance(z)"
   ]
  },
  {
   "cell_type": "code",
   "execution_count": 23,
   "id": "20962747",
   "metadata": {},
   "outputs": [
    {
     "data": {
      "text/plain": [
       "0.6774"
      ]
     },
     "execution_count": 23,
     "metadata": {},
     "output_type": "execute_result"
    }
   ],
   "source": [
    "header['HubbleParam']"
   ]
  },
  {
   "cell_type": "code",
   "execution_count": 22,
   "id": "4755857e",
   "metadata": {},
   "outputs": [
    {
     "name": "stdout",
     "output_type": "stream",
     "text": [
      "Map size at z=0.5: 293.32 arcmin\n"
     ]
    }
   ],
   "source": [
    "def current_code(boxsize, z, cosmo=Planck18):\n",
    "    dA = cosmo.angular_diameter_distance(z).to(u.kpc).value\n",
    "    dA *= header['HubbleParam']  # Convert to kpc/h\n",
    "    \n",
    "    # Get the box size in angular units.\n",
    "    theta_arcmin = np.degrees(boxsize / dA) * 60  # Convert to arcminutes # TODO: this is wrong I think!!\n",
    "    print(f\"Map size at z={z}: {theta_arcmin:.2f} arcmin\")\n",
    "\n",
    "current_code(header['BoxSize'], 0.5)"
   ]
  },
  {
   "cell_type": "code",
   "execution_count": null,
   "id": "e0684bfb",
   "metadata": {},
   "outputs": [],
   "source": []
  }
 ],
 "metadata": {
  "kernelspec": {
   "display_name": "cosmodesi-main",
   "language": "python",
   "name": "cosmodesi-main"
  },
  "language_info": {
   "codemirror_mode": {
    "name": "ipython",
    "version": 3
   },
   "file_extension": ".py",
   "mimetype": "text/x-python",
   "name": "python",
   "nbconvert_exporter": "python",
   "pygments_lexer": "ipython3",
   "version": "3.10.13"
  }
 },
 "nbformat": 4,
 "nbformat_minor": 5
}
