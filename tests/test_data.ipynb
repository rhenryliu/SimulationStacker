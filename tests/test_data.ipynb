{
 "cells": [
  {
   "cell_type": "code",
   "execution_count": 3,
   "id": "8fc096c2",
   "metadata": {},
   "outputs": [],
   "source": [
    "import numpy as np\n",
    "import matplotlib.pyplot as plt"
   ]
  },
  {
   "cell_type": "code",
   "execution_count": 2,
   "id": "f9daedfd",
   "metadata": {},
   "outputs": [],
   "source": [
    "path = '../data/Fig2_sim.npz'\n",
    "data = np.load(path)"
   ]
  },
  {
   "cell_type": "code",
   "execution_count": 7,
   "id": "ac0c8bba",
   "metadata": {},
   "outputs": [],
   "source": [
    "data_dict = dict(data)"
   ]
  },
  {
   "cell_type": "code",
   "execution_count": 8,
   "id": "16344632",
   "metadata": {},
   "outputs": [
    {
     "data": {
      "text/plain": [
       "{'theta_arcmins': array([1.   , 1.625, 2.25 , 2.875, 3.5  , 4.125, 4.75 , 5.375, 6.   ]),\n",
       " 'gas_illustris': array([ 0.21810774,  0.97624722,  2.10807138,  3.42635822,  4.77880801,\n",
       "         6.2291095 ,  7.57394565,  8.82545386, 10.        ]),\n",
       " 'dm_tng': array([ 0.99481547,  2.98663087,  4.62605275,  5.95455446,  6.91368211,\n",
       "         7.76781049,  8.45801184,  9.29343911, 10.        ]),\n",
       " 'signal': array([ 0.18287508,  1.02496   ,  2.2643611 ,  3.5052767 ,  4.9845176 ,\n",
       "         6.775152  ,  7.9947457 ,  9.338853  , 11.391631  ], dtype=float32),\n",
       " 'noise': array([0.03413407, 0.10010094, 0.2154677 , 0.45534628, 0.81929001,\n",
       "        1.38311809, 2.08531534, 3.03642262, 4.10918655])}"
      ]
     },
     "execution_count": 8,
     "metadata": {},
     "output_type": "execute_result"
    }
   ],
   "source": [
    "data_dict"
   ]
  },
  {
   "cell_type": "code",
   "execution_count": null,
   "id": "a35bf658",
   "metadata": {},
   "outputs": [],
   "source": []
  }
 ],
 "metadata": {
  "kernelspec": {
   "display_name": "cosmodesi-main",
   "language": "python",
   "name": "cosmodesi-main"
  },
  "language_info": {
   "codemirror_mode": {
    "name": "ipython",
    "version": 3
   },
   "file_extension": ".py",
   "mimetype": "text/x-python",
   "name": "python",
   "nbconvert_exporter": "python",
   "pygments_lexer": "ipython3",
   "version": "3.10.13"
  }
 },
 "nbformat": 4,
 "nbformat_minor": 5
}
