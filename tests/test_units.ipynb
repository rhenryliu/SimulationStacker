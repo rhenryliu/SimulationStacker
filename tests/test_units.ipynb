{
 "cells": [
  {
   "cell_type": "code",
   "execution_count": 1,
   "id": "858f32e2",
   "metadata": {},
   "outputs": [],
   "source": [
    "import sys\n",
    "\n",
    "import numpy as np\n",
    "import pandas as pd\n",
    "import matplotlib.pyplot as plt\n",
    "import h5py\n",
    "\n",
    "# from scipy.stats import binned_statistic_2d\n",
    "# from scipy.ndimage import gaussian_filter\n",
    "from matplotlib.colors import LogNorm\n",
    "from matplotlib.colors import SymLogNorm\n",
    "import matplotlib\n",
    "import matplotlib.cm as cm\n",
    "\n",
    "# from abacusnbody.analysis.tsc import tsc_parallel\n",
    "import time\n",
    "\n",
    "from astropy.cosmology import FlatLambdaCDM\n",
    "import astropy.units as u\n",
    "\n",
    "# Import packages\n",
    "\n",
    "sys.path.append('../src/')\n",
    "# from filter_utils import *\n",
    "from SZstacker import SZMapStacker # type: ignore\n",
    "from stacker import SimulationStacker\n",
    "\n",
    "# sys.path.append('../../illustrisPython/')\n",
    "import illustris_python as il # type: ignore\n",
    "\n",
    "import yaml\n",
    "import argparse\n",
    "from pathlib import Path\n"
   ]
  },
  {
   "cell_type": "code",
   "execution_count": 2,
   "id": "75cd34cf",
   "metadata": {},
   "outputs": [
    {
     "data": {
      "text/plain": [
       "True"
      ]
     },
     "execution_count": 2,
     "metadata": {},
     "output_type": "execute_result"
    }
   ],
   "source": [
    "np.isclose(1.1, 1.10000000001)"
   ]
  },
  {
   "cell_type": "code",
   "execution_count": 2,
   "id": "e22b8d5e",
   "metadata": {},
   "outputs": [],
   "source": [
    "path2config = '../scripts/configs/tau_z05_CAP.yaml'"
   ]
  },
  {
   "cell_type": "code",
   "execution_count": 3,
   "id": "fda54529",
   "metadata": {},
   "outputs": [],
   "source": [
    "with open(path2config) as f:\n",
    "    config = yaml.safe_load(f)\n",
    "\n",
    "redshift = config['redshift']\n",
    "filterType = config['filter_type']\n",
    "plotErrorBars = config['plot_error_bars']\n",
    "loadField = config['load_field']\n",
    "saveField = config['save_field']\n",
    "radDistance = config['rad_distance']\n",
    "pType = config['particle_type']\n",
    "\n",
    "# fractionType = config['fraction_type']\n",
    "\n",
    "figPath = Path(config['fig_path'])\n",
    "figPath.mkdir(parents=False, exist_ok=True)\n",
    "\n",
    "figName = config['fig_name']\n",
    "figType = config['fig_type']\n",
    "\n",
    "colourmaps = ['hot', 'cool']\n",
    "verbose = False"
   ]
  },
  {
   "cell_type": "code",
   "execution_count": 4,
   "id": "8e2b48e3",
   "metadata": {},
   "outputs": [
    {
     "name": "stdout",
     "output_type": "stream",
     "text": [
      "/pscratch/sd/r/rhliu/simulations/IllustrisTNG/TNG100-3/output//snapdir_067/snap_067.0.hdf5\n"
     ]
    },
    {
     "ename": "OSError",
     "evalue": "Unable to synchronously open file (truncated file: eof = 2966801296, sblock->base_addr = 0, stored_eof = 4171526684)",
     "output_type": "error",
     "traceback": [
      "\u001b[0;31m---------------------------------------------------------------------------\u001b[0m",
      "\u001b[0;31mOSError\u001b[0m                                   Traceback (most recent call last)",
      "Cell \u001b[0;32mIn[4], line 27\u001b[0m\n\u001b[1;32m     23\u001b[0m     \u001b[38;5;28mprint\u001b[39m(\u001b[38;5;124mf\u001b[39m\u001b[38;5;124m\"\u001b[39m\u001b[38;5;124mProcessing simulation: \u001b[39m\u001b[38;5;132;01m{\u001b[39;00msim_name\u001b[38;5;132;01m}\u001b[39;00m\u001b[38;5;124m\"\u001b[39m)\n\u001b[1;32m     25\u001b[0m \u001b[38;5;28;01mif\u001b[39;00m sim_type_name \u001b[38;5;241m==\u001b[39m \u001b[38;5;124m'\u001b[39m\u001b[38;5;124mIllustrisTNG\u001b[39m\u001b[38;5;124m'\u001b[39m:\n\u001b[0;32m---> 27\u001b[0m     stacker \u001b[38;5;241m=\u001b[39m \u001b[43mSZMapStacker\u001b[49m\u001b[43m(\u001b[49m\u001b[43msim_name\u001b[49m\u001b[43m,\u001b[49m\u001b[43m \u001b[49m\u001b[43msnapshot\u001b[49m\u001b[43m,\u001b[49m\u001b[43m \u001b[49m\u001b[43mz\u001b[49m\u001b[38;5;241;43m=\u001b[39;49m\u001b[43mredshift\u001b[49m\u001b[43m,\u001b[49m\u001b[43m \u001b[49m\n\u001b[1;32m     28\u001b[0m \u001b[43m                            \u001b[49m\u001b[43msimType\u001b[49m\u001b[38;5;241;43m=\u001b[39;49m\u001b[43msim_type_name\u001b[49m\u001b[43m)\u001b[49m\n\u001b[1;32m     30\u001b[0m     radii0, profiles0 \u001b[38;5;241m=\u001b[39m stacker\u001b[38;5;241m.\u001b[39mstackMap(pType, filterType\u001b[38;5;241m=\u001b[39mfilterType, maxRadius\u001b[38;5;241m=\u001b[39m\u001b[38;5;241m6.0\u001b[39m, \u001b[38;5;66;03m# type: ignore\u001b[39;00m\n\u001b[1;32m     31\u001b[0m                                             save\u001b[38;5;241m=\u001b[39msaveField, load\u001b[38;5;241m=\u001b[39mloadField, radDistance\u001b[38;5;241m=\u001b[39mradDistance)\n\u001b[1;32m     34\u001b[0m     \u001b[38;5;28;01mtry\u001b[39;00m:\n",
      "File \u001b[0;32m/global/u2/r/rhliu/projects/SimulationStacker/tests/../src/SZstacker.py:51\u001b[0m, in \u001b[0;36mSZMapStacker.__init__\u001b[0;34m(self, sim, snapshot, nPixels, simType, feedback, z)\u001b[0m\n\u001b[1;32m     33\u001b[0m \u001b[38;5;28;01mdef\u001b[39;00m \u001b[38;5;21m__init__\u001b[39m(\u001b[38;5;28mself\u001b[39m,\n\u001b[1;32m     34\u001b[0m              sim: \u001b[38;5;28mstr\u001b[39m, \n\u001b[1;32m     35\u001b[0m              snapshot: \u001b[38;5;28mint\u001b[39m, \n\u001b[0;32m   (...)\u001b[0m\n\u001b[1;32m     38\u001b[0m              feedback\u001b[38;5;241m=\u001b[39m\u001b[38;5;28;01mNone\u001b[39;00m, \u001b[38;5;66;03m# Only for SIMBA\u001b[39;00m\n\u001b[1;32m     39\u001b[0m              z\u001b[38;5;241m=\u001b[39m\u001b[38;5;241m0.0\u001b[39m):\n\u001b[1;32m     40\u001b[0m \u001b[38;5;250m    \u001b[39m\u001b[38;5;124;03m\"\"\"Initialize the SZMapStacker.\u001b[39;00m\n\u001b[1;32m     41\u001b[0m \n\u001b[1;32m     42\u001b[0m \u001b[38;5;124;03m    Args:\u001b[39;00m\n\u001b[0;32m   (...)\u001b[0m\n\u001b[1;32m     48\u001b[0m \u001b[38;5;124;03m        feedback (_type_, optional): Feedback mechanism. Defaults to None.\u001b[39;00m\n\u001b[1;32m     49\u001b[0m \u001b[38;5;124;03m    \"\"\"\u001b[39;00m\n\u001b[0;32m---> 51\u001b[0m     \u001b[38;5;28;43msuper\u001b[39;49m\u001b[43m(\u001b[49m\u001b[43m)\u001b[49m\u001b[38;5;241;43m.\u001b[39;49m\u001b[38;5;21;43m__init__\u001b[39;49m\u001b[43m(\u001b[49m\u001b[43msim\u001b[49m\u001b[43m,\u001b[49m\u001b[43m \u001b[49m\u001b[43msnapshot\u001b[49m\u001b[43m,\u001b[49m\u001b[43m \u001b[49m\u001b[43mnPixels\u001b[49m\u001b[43m,\u001b[49m\u001b[43m \u001b[49m\u001b[43msimType\u001b[49m\u001b[38;5;241;43m=\u001b[39;49m\u001b[43msimType\u001b[49m\u001b[43m,\u001b[49m\u001b[43m \u001b[49m\u001b[43mfeedback\u001b[49m\u001b[38;5;241;43m=\u001b[39;49m\u001b[43mfeedback\u001b[49m\u001b[43m,\u001b[49m\u001b[43m \u001b[49m\u001b[43mz\u001b[49m\u001b[38;5;241;43m=\u001b[39;49m\u001b[43mz\u001b[49m\u001b[43m)\u001b[49m\n",
      "File \u001b[0;32m/global/u2/r/rhliu/projects/SimulationStacker/tests/../src/stacker.py:75\u001b[0m, in \u001b[0;36mSimulationStacker.__init__\u001b[0;34m(self, sim, snapshot, nPixels, simType, feedback, z)\u001b[0m\n\u001b[1;32m     73\u001b[0m \u001b[38;5;28mprint\u001b[39m(\u001b[38;5;28mself\u001b[39m\u001b[38;5;241m.\u001b[39msnapPath(\u001b[38;5;28mself\u001b[39m\u001b[38;5;241m.\u001b[39msimType))\n\u001b[1;32m     74\u001b[0m \u001b[38;5;66;03m# with h5py.File(il.snapshot.snapPath(self.simPath, self.snapshot), 'r') as f:\u001b[39;00m\n\u001b[0;32m---> 75\u001b[0m \u001b[38;5;28;01mwith\u001b[39;00m \u001b[43mh5py\u001b[49m\u001b[38;5;241;43m.\u001b[39;49m\u001b[43mFile\u001b[49m\u001b[43m(\u001b[49m\u001b[38;5;28;43mself\u001b[39;49m\u001b[38;5;241;43m.\u001b[39;49m\u001b[43msnapPath\u001b[49m\u001b[43m(\u001b[49m\u001b[38;5;28;43mself\u001b[39;49m\u001b[38;5;241;43m.\u001b[39;49m\u001b[43msimType\u001b[49m\u001b[43m)\u001b[49m\u001b[43m,\u001b[49m\u001b[43m \u001b[49m\u001b[38;5;124;43m'\u001b[39;49m\u001b[38;5;124;43mr\u001b[39;49m\u001b[38;5;124;43m'\u001b[39;49m\u001b[43m)\u001b[49m \u001b[38;5;28;01mas\u001b[39;00m f:\n\u001b[1;32m     77\u001b[0m     \u001b[38;5;28mself\u001b[39m\u001b[38;5;241m.\u001b[39mheader \u001b[38;5;241m=\u001b[39m \u001b[38;5;28mdict\u001b[39m(f[\u001b[38;5;124m'\u001b[39m\u001b[38;5;124mHeader\u001b[39m\u001b[38;5;124m'\u001b[39m]\u001b[38;5;241m.\u001b[39mattrs\u001b[38;5;241m.\u001b[39mitems())\n\u001b[1;32m     79\u001b[0m \u001b[38;5;66;03m# self.Lbox = self.header['BoxSize'] # kpc/h\u001b[39;00m\n",
      "File \u001b[0;32m/global/common/software/desi/users/adematti/perlmutter/cosmodesiconda/20240118-1.0.0/conda/lib/python3.10/site-packages/h5py/_hl/files.py:562\u001b[0m, in \u001b[0;36mFile.__init__\u001b[0;34m(self, name, mode, driver, libver, userblock_size, swmr, rdcc_nslots, rdcc_nbytes, rdcc_w0, track_order, fs_strategy, fs_persist, fs_threshold, fs_page_size, page_buf_size, min_meta_keep, min_raw_keep, locking, alignment_threshold, alignment_interval, meta_block_size, **kwds)\u001b[0m\n\u001b[1;32m    553\u001b[0m     fapl \u001b[38;5;241m=\u001b[39m make_fapl(driver, libver, rdcc_nslots, rdcc_nbytes, rdcc_w0,\n\u001b[1;32m    554\u001b[0m                      locking, page_buf_size, min_meta_keep, min_raw_keep,\n\u001b[1;32m    555\u001b[0m                      alignment_threshold\u001b[38;5;241m=\u001b[39malignment_threshold,\n\u001b[1;32m    556\u001b[0m                      alignment_interval\u001b[38;5;241m=\u001b[39malignment_interval,\n\u001b[1;32m    557\u001b[0m                      meta_block_size\u001b[38;5;241m=\u001b[39mmeta_block_size,\n\u001b[1;32m    558\u001b[0m                      \u001b[38;5;241m*\u001b[39m\u001b[38;5;241m*\u001b[39mkwds)\n\u001b[1;32m    559\u001b[0m     fcpl \u001b[38;5;241m=\u001b[39m make_fcpl(track_order\u001b[38;5;241m=\u001b[39mtrack_order, fs_strategy\u001b[38;5;241m=\u001b[39mfs_strategy,\n\u001b[1;32m    560\u001b[0m                      fs_persist\u001b[38;5;241m=\u001b[39mfs_persist, fs_threshold\u001b[38;5;241m=\u001b[39mfs_threshold,\n\u001b[1;32m    561\u001b[0m                      fs_page_size\u001b[38;5;241m=\u001b[39mfs_page_size)\n\u001b[0;32m--> 562\u001b[0m     fid \u001b[38;5;241m=\u001b[39m \u001b[43mmake_fid\u001b[49m\u001b[43m(\u001b[49m\u001b[43mname\u001b[49m\u001b[43m,\u001b[49m\u001b[43m \u001b[49m\u001b[43mmode\u001b[49m\u001b[43m,\u001b[49m\u001b[43m \u001b[49m\u001b[43muserblock_size\u001b[49m\u001b[43m,\u001b[49m\u001b[43m \u001b[49m\u001b[43mfapl\u001b[49m\u001b[43m,\u001b[49m\u001b[43m \u001b[49m\u001b[43mfcpl\u001b[49m\u001b[43m,\u001b[49m\u001b[43m \u001b[49m\u001b[43mswmr\u001b[49m\u001b[38;5;241;43m=\u001b[39;49m\u001b[43mswmr\u001b[49m\u001b[43m)\u001b[49m\n\u001b[1;32m    564\u001b[0m \u001b[38;5;28;01mif\u001b[39;00m \u001b[38;5;28misinstance\u001b[39m(libver, \u001b[38;5;28mtuple\u001b[39m):\n\u001b[1;32m    565\u001b[0m     \u001b[38;5;28mself\u001b[39m\u001b[38;5;241m.\u001b[39m_libver \u001b[38;5;241m=\u001b[39m libver\n",
      "File \u001b[0;32m/global/common/software/desi/users/adematti/perlmutter/cosmodesiconda/20240118-1.0.0/conda/lib/python3.10/site-packages/h5py/_hl/files.py:235\u001b[0m, in \u001b[0;36mmake_fid\u001b[0;34m(name, mode, userblock_size, fapl, fcpl, swmr)\u001b[0m\n\u001b[1;32m    233\u001b[0m     \u001b[38;5;28;01mif\u001b[39;00m swmr \u001b[38;5;129;01mand\u001b[39;00m swmr_support:\n\u001b[1;32m    234\u001b[0m         flags \u001b[38;5;241m|\u001b[39m\u001b[38;5;241m=\u001b[39m h5f\u001b[38;5;241m.\u001b[39mACC_SWMR_READ\n\u001b[0;32m--> 235\u001b[0m     fid \u001b[38;5;241m=\u001b[39m \u001b[43mh5f\u001b[49m\u001b[38;5;241;43m.\u001b[39;49m\u001b[43mopen\u001b[49m\u001b[43m(\u001b[49m\u001b[43mname\u001b[49m\u001b[43m,\u001b[49m\u001b[43m \u001b[49m\u001b[43mflags\u001b[49m\u001b[43m,\u001b[49m\u001b[43m \u001b[49m\u001b[43mfapl\u001b[49m\u001b[38;5;241;43m=\u001b[39;49m\u001b[43mfapl\u001b[49m\u001b[43m)\u001b[49m\n\u001b[1;32m    236\u001b[0m \u001b[38;5;28;01melif\u001b[39;00m mode \u001b[38;5;241m==\u001b[39m \u001b[38;5;124m'\u001b[39m\u001b[38;5;124mr+\u001b[39m\u001b[38;5;124m'\u001b[39m:\n\u001b[1;32m    237\u001b[0m     fid \u001b[38;5;241m=\u001b[39m h5f\u001b[38;5;241m.\u001b[39mopen(name, h5f\u001b[38;5;241m.\u001b[39mACC_RDWR, fapl\u001b[38;5;241m=\u001b[39mfapl)\n",
      "File \u001b[0;32mh5py/_objects.pyx:54\u001b[0m, in \u001b[0;36mh5py._objects.with_phil.wrapper\u001b[0;34m()\u001b[0m\n",
      "File \u001b[0;32mh5py/_objects.pyx:55\u001b[0m, in \u001b[0;36mh5py._objects.with_phil.wrapper\u001b[0;34m()\u001b[0m\n",
      "File \u001b[0;32mh5py/h5f.pyx:102\u001b[0m, in \u001b[0;36mh5py.h5f.open\u001b[0;34m()\u001b[0m\n",
      "\u001b[0;31mOSError\u001b[0m: Unable to synchronously open file (truncated file: eof = 2966801296, sblock->base_addr = 0, stored_eof = 4171526684)"
     ]
    },
    {
     "data": {
      "image/png": "[encoded data removed]",
      "text/plain": [
       "<Figure size 1000x800 with 1 Axes>"
      ]
     },
     "metadata": {},
     "output_type": "display_data"
    }
   ],
   "source": [
    "fig, ax = plt.subplots(figsize=(10,8))\n",
    "t0 = time.time()\n",
    "for i, sim_type in enumerate(config['simulations']):\n",
    "    sim_type_name = sim_type['sim_type']\n",
    "    \n",
    "    colourmap = matplotlib.colormaps[colourmaps[i]] # type: ignore\n",
    "    \n",
    "    if sim_type_name == 'IllustrisTNG':\n",
    "        TNG_sims = sim_type['sims']\n",
    "        colours = colourmap(np.linspace(0.2, 0.85, len(TNG_sims)))\n",
    "    if sim_type_name == 'SIMBA':\n",
    "        SIMBA_sims = sim_type['sims']\n",
    "        colours = colourmap(np.linspace(0.2, 0.85, len(SIMBA_sims)))\n",
    "\n",
    "    if verbose:\n",
    "        print(f\"Processing simulations of type: {sim_type_name}\")\n",
    "    \n",
    "    for j, sim in enumerate(sim_type['sims']):\n",
    "        sim_name = sim['name']\n",
    "        snapshot = sim['snapshot']\n",
    "        \n",
    "        if verbose:\n",
    "            print(f\"Processing simulation: {sim_name}\")\n",
    "        \n",
    "        if sim_type_name == 'IllustrisTNG':\n",
    "            \n",
    "            stacker = SZMapStacker(sim_name, snapshot, z=redshift, \n",
    "                                    simType=sim_type_name)\n",
    "            \n",
    "            radii0, profiles0 = stacker.stackMap(pType, filterType=filterType, maxRadius=6.0, # type: ignore\n",
    "                                                    save=saveField, load=loadField, radDistance=radDistance)\n",
    "\n",
    "\n",
    "            try:\n",
    "                OmegaBaryon = stacker.header['OmegaBaryon']\n",
    "            except KeyError:\n",
    "                OmegaBaryon = 0.0456  # Default value for Illustris-1\n",
    "\n",
    "            \n",
    "\n",
    "        elif sim_type_name == 'SIMBA':\n",
    "            # SIMBA simulations have different feedback models               \n",
    "            feedback = sim['feedback']\n",
    "\n",
    "            sim_name_show = sim_name + '_' + feedback\n",
    "            if verbose:\n",
    "                print(f\"Processing feedback model: {feedback}\")\n",
    "            \n",
    "            stacker = SZMapStacker(sim_name, snapshot, z=redshift,\n",
    "                                    simType=sim_type_name, \n",
    "                                    feedback=feedback)\n",
    "            \n",
    "            radii0, profiles0 = stacker.stackMap(pType, filterType=filterType, maxRadius=6.0,  # type: ignore\n",
    "                                                    save=saveField, load=loadField, radDistance=radDistance)\n",
    "                            \n",
    "            OmegaBaryon = 0.048  # Default value for SIMBA\n",
    "\n",
    "            # if fractionType == 'gas':\n",
    "            #     fraction = profiles0 / (profiles0 + profiles1 + profiles4 + profiles5) / (OmegaBaryon / stacker.header['Omega0']) # OmegaBaryon = 0.048 from Planck 2015\n",
    "            # elif fractionType == 'baryon':\n",
    "            #     fraction = (profiles0 + profiles4 + profiles5) / (profiles0 + profiles1 + profiles4 + profiles5) / (OmegaBaryon / stacker.header['Omega0']) # OmegaBaryon = 0.048 from Planck 2015\n",
    "\n",
    "            # fraction_plot = np.median(fraction, axis=1)\n",
    "            # ax.plot(radii0 * radDistance, fraction_plot, label=sim_name_show, color=colours[j], lw=2)\n",
    "            # # ax.plot(radii0 * radDistance, profiles0.mean(axis=1), label=sim_name_show, color=colours[j], lw=2)\n",
    "            # # ax.plot(radii0 * radDistance, profiles0, label=sim_name_show, color=colours[j], lw=2)\n",
    "            # if plotErrorBars:\n",
    "            #     fraction_err = np.std(fraction, axis=1) / np.sqrt(fraction.shape[1])\n",
    "            #     upper = np.percentile(fraction, 75, axis=1)\n",
    "            #     lower = np.percentile(fraction, 25, axis=1)\n",
    "            #     ax.fill_between(radii0 * radDistance, \n",
    "            #                     lower, \n",
    "            #                     upper, \n",
    "            #                     color=colours[j], alpha=0.2)\n",
    "        else:\n",
    "            raise ValueError(f\"Unknown simulation type: {sim_type_name}\")\n",
    "\n",
    "        \n",
    "        # Now for Plotting\n",
    "        \n",
    "        # if fractionType == 'gas':\n",
    "        #     fraction = profiles0 / (profiles0 + profiles1 + profiles4) / (OmegaBaryon / stacker.header['Omega0']) # OmegaBaryon = 0.048 from Planck 2015\n",
    "        # elif fractionType == 'baryon':\n",
    "        #     fraction = (profiles0 + profiles4) / (profiles0 + profiles1 + profiles4) / (OmegaBaryon / stacker.header['Omega0']) # OmegaBaryon = 0.048 from Planck 2015\n",
    "        \n",
    "\n",
    "        profiles_plot = np.mean(profiles0, axis=1)\n",
    "        ax.plot(radii0 * radDistance, profiles_plot, label=sim_name, color=colours[j], lw=2, marker='o')\n",
    "        if plotErrorBars:\n",
    "            profiles_err = np.std(profiles0, axis=1) / np.sqrt(profiles0.shape[1])\n",
    "            upper = np.percentile(profiles0, 75, axis=1)\n",
    "            lower = np.percentile(profiles0, 25, axis=1)\n",
    "            ax.fill_between(radii0 * radDistance, \n",
    "                            lower, \n",
    "                            upper, \n",
    "                            color=colours[j], alpha=0.2)\n",
    "\n",
    "\n",
    "# ax.set_xlabel('Radius (arcmin)')\n",
    "# ax.set_ylabel('f')\n",
    "ax.set_xlabel('R [arcmin]', fontsize=18)\n",
    "ax.set_ylabel(r'$f_{\\rm gas}(< R) / (\\Omega_b/\\Omega_m)$', fontsize=18)\n",
    "# ax.set_xscale('log')\n",
    "# ax.set_yscale('log')\n",
    "ax.set_xlim(0.0, 6.5)\n",
    "# ax.set_ylim(0, 1.2)\n",
    "# ax.axhline(1.0, color='k', ls='--', lw=2)\n",
    "ax.legend(loc='lower right', fontsize=12)\n",
    "ax.grid(True)\n",
    "ax.set_title(f'{filterType} filter at z={redshift}', fontsize=18)\n",
    "\n",
    "fig.tight_layout()\n",
    "# fig.savefig(figPath / f'{figName}_{pType}_z{redshift}_{filterType}.{figType}', dpi=300) # type: ignore\n",
    "plt.show()\n",
    "plt.close(fig)\n",
    "\n",
    "print('Done!!!')\n"
   ]
  },
  {
   "cell_type": "code",
   "execution_count": null,
   "id": "e211b7f3",
   "metadata": {},
   "outputs": [],
   "source": [
    "T_CMB = 2.7255 # CMB temperature in K"
   ]
  },
  {
   "cell_type": "code",
   "execution_count": null,
   "id": "e2895434",
   "metadata": {},
   "outputs": [
    {
     "data": {
      "text/plain": [
       "[<matplotlib.lines.Line2D at 0x7fa453e07790>]"
      ]
     },
     "execution_count": 9,
     "metadata": {},
     "output_type": "execute_result"
    },
    {
     "data": {
      "image/png": "[encoded data removed]",
      "text/plain": [
       "<Figure size 640x480 with 1 Axes>"
      ]
     },
     "metadata": {},
     "output_type": "display_data"
    }
   ],
   "source": [
    "profiles_result = np.mean(profiles0 * T_CMB * 1e6, axis=1) \n",
    "\n",
    "plt.semilogy(radii0 * radDistance, profiles_result)"
   ]
  },
  {
   "cell_type": "code",
   "execution_count": null,
   "id": "92213dc1",
   "metadata": {},
   "outputs": [],
   "source": []
  }
 ],
 "metadata": {
  "kernelspec": {
   "display_name": "cosmodesi-main",
   "language": "python",
   "name": "cosmodesi-main"
  }
 },
 "nbformat": 4,
 "nbformat_minor": 5
}
